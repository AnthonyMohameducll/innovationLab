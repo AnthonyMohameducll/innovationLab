{
 "cells": [
  {
   "cell_type": "code",
   "execution_count": 1,
   "id": "653f5e95-08d7-4acb-84c8-68af351ad520",
   "metadata": {},
   "outputs": [],
   "source": [
    "import pandas as pd\n",
    "import matplotlib as plt\n",
    "\n",
    "weather = pd.read_csv('dataForcast.csv', index_col=\"DATE\" )   \n"
   ]
  },
  {
   "cell_type": "code",
   "execution_count": 2,
   "id": "36a87225-fd01-4e78-9ee1-567a8074dc5c",
   "metadata": {},
   "outputs": [],
   "source": [
    "null_pct = weather.apply(pd.isnull).sum()/weather.shape[0]\n"
   ]
  },
  {
   "cell_type": "code",
   "execution_count": 3,
   "id": "54750386-f0ab-4406-b469-96d447470edf",
   "metadata": {},
   "outputs": [],
   "source": [
    "core_weather = weather [[\"PRCP\", \"TMAX\", \"TMIN\"]].copy()"
   ]
  },
  {
   "cell_type": "code",
   "execution_count": 4,
   "id": "65a921f9-3c58-4a00-ab12-955580c3a192",
   "metadata": {},
   "outputs": [],
   "source": [
    "core_weather.columns = [\"precipitation\",\"max_temp\", \"min_temp\"]"
   ]
  },
  {
   "cell_type": "code",
   "execution_count": 5,
   "id": "784241e7-0453-4242-a693-8aee5b30be69",
   "metadata": {},
   "outputs": [],
   "source": [
    "core_weather [\"precipitation\"] = core_weather [\"precipitation\"].fillna(0)"
   ]
  },
  {
   "cell_type": "code",
   "execution_count": 6,
   "id": "aa3e3976-af0f-4507-9b25-c4666616549d",
   "metadata": {},
   "outputs": [
    {
     "name": "stderr",
     "output_type": "stream",
     "text": [
      "C:\\Users\\Celeste\\AppData\\Local\\Temp\\ipykernel_16256\\3127936549.py:1: FutureWarning: DataFrame.fillna with 'method' is deprecated and will raise in a future version. Use obj.ffill() or obj.bfill() instead.\n",
      "  core_weather = core_weather.fillna(method=\"ffill\")\n"
     ]
    }
   ],
   "source": [
    "core_weather = core_weather.fillna(method=\"ffill\")"
   ]
  },
  {
   "cell_type": "code",
   "execution_count": 7,
   "id": "028ea211-82e6-44b2-9360-e12daa38f10a",
   "metadata": {},
   "outputs": [],
   "source": [
    "core_weather.apply(pd.isnull).sum()/core_weather. shape [0];"
   ]
  },
  {
   "cell_type": "code",
   "execution_count": 8,
   "id": "68a15f17-4583-483b-9ec5-e863b747fb79",
   "metadata": {},
   "outputs": [],
   "source": [
    "core_weather.apply(lambda x: (x == 9999).sum());\n"
   ]
  },
  {
   "cell_type": "code",
   "execution_count": 9,
   "id": "21860548-1101-4c1c-955a-aac34607f5bd",
   "metadata": {},
   "outputs": [],
   "source": [
    "core_weather [\"target\"] = core_weather.shift(-1)[\"max_temp\"]"
   ]
  },
  {
   "cell_type": "code",
   "execution_count": 10,
   "id": "c6e05985-f304-48a2-a7b1-cb02d3cf6777",
   "metadata": {},
   "outputs": [],
   "source": [
    "core_weather = core_weather.ffill()"
   ]
  },
  {
   "cell_type": "code",
   "execution_count": 11,
   "id": "a38d0c3d-bcc8-473d-aaa1-9406bec726cb",
   "metadata": {},
   "outputs": [],
   "source": [
    "from sklearn.linear_model import Ridge\n",
    "reg = Ridge(alpha=0.1)"
   ]
  },
  {
   "cell_type": "code",
   "execution_count": 12,
   "id": "8a9e882a-c31c-4ad8-9726-9cc02d81fb8b",
   "metadata": {},
   "outputs": [],
   "source": [
    "predictors = [\"precipitation\", \"max_temp\",\"min_temp\"]"
   ]
  },
  {
   "cell_type": "code",
   "execution_count": 13,
   "id": "8909c48e-d4d6-497a-9fba-d6d9ae89b61b",
   "metadata": {},
   "outputs": [],
   "source": [
    "train = core_weather.loc[:\"2020-10-31\"]"
   ]
  },
  {
   "cell_type": "code",
   "execution_count": 14,
   "id": "95254313-1d05-4355-9dfc-17b62cae25ad",
   "metadata": {},
   "outputs": [],
   "source": [
    "test = core_weather.loc[\"2021-11-01\":]"
   ]
  },
  {
   "cell_type": "code",
   "execution_count": 15,
   "id": "b39732ac-f3a4-4e90-99fc-9fb53a908eae",
   "metadata": {},
   "outputs": [],
   "source": [
    "def backtest (weather, model, predictors, start=3650, step=90):\n",
    "    all_predictions = []\n",
    "\n",
    "    for i in range (start, weather. shape[0], step):\n",
    "        train = core_weather.iloc[:i, :]\n",
    "        test = core_weather.iloc[i:(i+step), :]\n",
    "\n",
    "        model.fit(train [predictors], train [\"target\"])\n",
    "        preds = model.predict(test [predictors])\n",
    "        preds=pd. Series (preds, index=test.index)\n",
    "        combined = pd.concat([test[\"target\"], preds], axis=1)\n",
    "        combined.columns = [\"actual\", \"prediction\"]\n",
    "        combined [\"diff\"] = (combined [\"prediction\"] - combined [\"actual\"]).abs()\n",
    "        all_predictions.append(combined)\n",
    "    return pd.concat(all_predictions)"
   ]
  },
  {
   "cell_type": "code",
   "execution_count": 16,
   "id": "db91ec8f-7593-4ef2-a82b-e7eb3b38c929",
   "metadata": {},
   "outputs": [],
   "source": [
    "predictions = backtest (weather, reg, predictors)"
   ]
  },
  {
   "cell_type": "code",
   "execution_count": 17,
   "id": "22790312-49af-4b08-adcb-665644fc2322",
   "metadata": {},
   "outputs": [],
   "source": [
    "from sklearn.metrics import mean_absolute_error\n",
    "mean_absolute_error(predictions[\"actual\"], predictions[\"prediction\"]);"
   ]
  },
  {
   "cell_type": "code",
   "execution_count": 18,
   "id": "e4c5d8f2-8949-44af-91b8-d75d0bad4ffb",
   "metadata": {},
   "outputs": [],
   "source": [
    "def pct_diff(old, new) :\n",
    "    return (new - old) / old\n",
    "def compute_rolling (weather, horizon, col):\n",
    "    label = f\"rolling_{horizon}_{col}\"\n",
    "    weather [label] = weather [col].rolling(horizon).mean()\n",
    "\n",
    "rolling_horizons = [3,14]\n",
    "\n",
    "for horizon in rolling_horizons:\n",
    "    for col in predictors:\n",
    "        compute_rolling(core_weather, horizon, col)"
   ]
  },
  {
   "cell_type": "code",
   "execution_count": 19,
   "id": "588ecaed-a317-4cc6-97eb-a6a6cecf900d",
   "metadata": {},
   "outputs": [],
   "source": [
    "core_weather =core_weather.iloc[14:, :]"
   ]
  },
  {
   "cell_type": "code",
   "execution_count": 20,
   "id": "23ced260-c777-4cef-b0b1-bad1d59d378e",
   "metadata": {},
   "outputs": [],
   "source": [
    "core_weather = core_weather.fillna(0)"
   ]
  },
  {
   "cell_type": "code",
   "execution_count": 21,
   "id": "ab7cb2b8-9429-47c2-a36d-0f414593d24d",
   "metadata": {},
   "outputs": [],
   "source": [
    "reg.fit(train[predictors], train[\"target\"]);"
   ]
  },
  {
   "cell_type": "code",
   "execution_count": 22,
   "id": "06e1ca5d-fce8-4114-9529-ffe6dd8991dd",
   "metadata": {},
   "outputs": [],
   "source": [
    "predictions = reg.predict(test[predictors])"
   ]
  },
  {
   "cell_type": "code",
   "execution_count": 23,
   "id": "7f4921fd-e3aa-40bd-a359-e293aa114ad4",
   "metadata": {},
   "outputs": [],
   "source": [
    "combined = pd.concat([test[\"target\"], pd. Series (predictions, index=test. index)], axis=1)\n",
    "combined.columns = [\"actual\", \"predicted\"]"
   ]
  },
  {
   "cell_type": "code",
   "execution_count": 24,
   "id": "cb346c28-0779-43e8-8554-009b564af527",
   "metadata": {},
   "outputs": [],
   "source": [
    "reg.coef_;"
   ]
  },
  {
   "cell_type": "code",
   "execution_count": 25,
   "id": "553a04b0-2af5-49ac-8c0d-41f71ae12ab2",
   "metadata": {},
   "outputs": [],
   "source": [
    "def create_predictions (predictors, core_weather, reg):\n",
    "    train = core_weather.loc[:\"2020-10-31\"]\n",
    "    test = core_weather.loc[\"2020-11-01\":]\n",
    "    reg. fit (train [predictors], train [\"target\"])\n",
    "    predictions = reg.predict(test [predictors])\n",
    "    error = mean_absolute_error(test[\"target\"], predictions)\n",
    "    combined = pd.concat([test[\"target\"], pd. Series (predictions, index=test.index)], axis=1)\n",
    "    combined.columns = [\"actual\", \"predictions\"]\n",
    "    return error, combined\n",
    "\n",
    "create_predictions(predictors, core_weather, reg);"
   ]
  },
  {
   "cell_type": "code",
   "execution_count": 26,
   "id": "e6d7ee07-0b4a-495d-bd3d-2b1310388fe9",
   "metadata": {},
   "outputs": [],
   "source": [
    "core_weather [\"month_max\"]= core_weather[\"max_temp\"].rolling(30).max()"
   ]
  },
  {
   "cell_type": "code",
   "execution_count": 27,
   "id": "591855c8-c64d-4ab3-8c1d-545c40d517a5",
   "metadata": {},
   "outputs": [],
   "source": [
    "core_weather [\"month_day_max\"] = core_weather [\"month_max\"] / core_weather [\"max_temp\"]"
   ]
  },
  {
   "cell_type": "markdown",
   "id": "653f1921-2aee-4a9f-b278-e751a91d3eb7",
   "metadata": {},
   "source": [
    "## Predict weather for date"
   ]
  },
  {
   "cell_type": "code",
   "execution_count": 28,
   "id": "ebc50710-a0c3-43ae-b967-8f77eb079358",
   "metadata": {},
   "outputs": [
    {
     "data": {
      "application/vnd.jupyter.widget-view+json": {
       "model_id": "c0eabb356d5e4c89b8b91195aafdc77e",
       "version_major": 2,
       "version_minor": 0
      },
      "text/plain": [
       "VBox(children=(HBox(children=(Text(value='', description='Date:', placeholder='YYYY-MM-DD'), Button(button_sty…"
      ]
     },
     "execution_count": 28,
     "metadata": {},
     "output_type": "execute_result"
    }
   ],
   "source": [
    "from datetime import date\n",
    "from datetime import timedelta\n",
    "import ipywidgets as widgets\n",
    "dateInput = widgets.Text(\n",
    "    placeholder='YYYY-MM-DD',\n",
    "    description='Date:',\n",
    "    disabled=False   \n",
    ")\n",
    "button = widgets.Button(\n",
    "    description='Display info for date',\n",
    "    disabled=False,\n",
    "    button_style='info',\n",
    "    tooltip='Display info for date',\n",
    "    icon='check' # (FontAwesome names without the `fa-` prefix)\n",
    ")\n",
    "\n",
    "output = widgets.Textarea(\n",
    "    description='Output:',\n",
    "    height='20vh',\n",
    "    disabled=True\n",
    ")\n",
    "\n",
    "def displayData(date_to_predict):\n",
    "    date_to_predict = dateInput.value\n",
    "    \n",
    "    # Create a DataFrame with the specified predictors and fill missing values with zeros\n",
    "    new_row = pd.DataFrame(index=[date_to_predict], columns=predictors).fillna(0)\n",
    "    \n",
    "    # Assuming \"predictors\" is a list of features\n",
    "    prediction = reg.predict(new_row.values.reshape(1, -1))[0]\n",
    "\n",
    "    # Check if the date is in the historical data\n",
    "    if date_to_predict in core_weather.index:\n",
    "        # Use the actual historical temperature\n",
    "        max_temp = core_weather.loc[date_to_predict, \"max_temp\"]\n",
    "        min_temp = core_weather.loc[date_to_predict, \"min_temp\"]\n",
    "        prcp = core_weather.loc[date_to_predict, \"precipitation\"]\n",
    "    else:\n",
    "        # Estimate temperature based on the average of the same day in previous years\n",
    "        same_day_temps = core_weather[pd.to_datetime(core_weather.index).dayofyear == pd.to_datetime(date_to_predict).dayofyear]\n",
    "        max_temp = same_day_temps[\"max_temp\"].mean()\n",
    "        min_temp = same_day_temps[\"min_temp\"].mean()\n",
    "        prcp = same_day_temps[\"precipitation\"].mean()\n",
    "\n",
    "    # Check if it's going to rain\n",
    "    if prcp > 0:\n",
    "        precipitation_status = \"It's going to rain.\"\n",
    "    else:\n",
    "        precipitation_status = \"It's dry.\"\n",
    "\n",
    "    output.value = \"Weather forecast for {}: \\nMax Temperature: {:.2f}°C\\nMin Temperature: {:.2f}°C\\nPrecipitation: {:.2f}\\n{}\".format(date_to_predict, max_temp, min_temp, prcp, precipitation_status)\n",
    "\n",
    "\n",
    "button.on_click(displayData)\n",
    "widgets.VBox([widgets.HBox([dateInput, button]),output])"
   ]
  },
  {
   "cell_type": "code",
   "execution_count": 29,
   "id": "ff824169-7296-4500-8171-729a591b21c9",
   "metadata": {},
   "outputs": [
    {
     "name": "stderr",
     "output_type": "stream",
     "text": [
      "C:\\Users\\Celeste\\AppData\\Local\\Programs\\Python\\Python311\\Lib\\site-packages\\sklearn\\base.py:465: UserWarning: X does not have valid feature names, but Ridge was fitted with feature names\n",
      "  warnings.warn(\n",
      "C:\\Users\\Celeste\\AppData\\Local\\Programs\\Python\\Python311\\Lib\\site-packages\\sklearn\\base.py:465: UserWarning: X does not have valid feature names, but Ridge was fitted with feature names\n",
      "  warnings.warn(\n",
      "C:\\Users\\Celeste\\AppData\\Local\\Programs\\Python\\Python311\\Lib\\site-packages\\sklearn\\base.py:465: UserWarning: X does not have valid feature names, but Ridge was fitted with feature names\n",
      "  warnings.warn(\n",
      "C:\\Users\\Celeste\\AppData\\Local\\Programs\\Python\\Python311\\Lib\\site-packages\\sklearn\\base.py:465: UserWarning: X does not have valid feature names, but Ridge was fitted with feature names\n",
      "  warnings.warn(\n",
      "C:\\Users\\Celeste\\AppData\\Local\\Programs\\Python\\Python311\\Lib\\site-packages\\sklearn\\base.py:465: UserWarning: X does not have valid feature names, but Ridge was fitted with feature names\n",
      "  warnings.warn(\n",
      "C:\\Users\\Celeste\\AppData\\Local\\Programs\\Python\\Python311\\Lib\\site-packages\\sklearn\\base.py:465: UserWarning: X does not have valid feature names, but Ridge was fitted with feature names\n",
      "  warnings.warn(\n",
      "C:\\Users\\Celeste\\AppData\\Local\\Programs\\Python\\Python311\\Lib\\site-packages\\sklearn\\base.py:465: UserWarning: X does not have valid feature names, but Ridge was fitted with feature names\n",
      "  warnings.warn(\n",
      "C:\\Users\\Celeste\\AppData\\Local\\Programs\\Python\\Python311\\Lib\\site-packages\\sklearn\\base.py:465: UserWarning: X does not have valid feature names, but Ridge was fitted with feature names\n",
      "  warnings.warn(\n",
      "C:\\Users\\Celeste\\AppData\\Local\\Programs\\Python\\Python311\\Lib\\site-packages\\sklearn\\base.py:465: UserWarning: X does not have valid feature names, but Ridge was fitted with feature names\n",
      "  warnings.warn(\n",
      "C:\\Users\\Celeste\\AppData\\Local\\Programs\\Python\\Python311\\Lib\\site-packages\\sklearn\\base.py:465: UserWarning: X does not have valid feature names, but Ridge was fitted with feature names\n",
      "  warnings.warn(\n",
      "C:\\Users\\Celeste\\AppData\\Local\\Programs\\Python\\Python311\\Lib\\site-packages\\sklearn\\base.py:465: UserWarning: X does not have valid feature names, but Ridge was fitted with feature names\n",
      "  warnings.warn(\n",
      "C:\\Users\\Celeste\\AppData\\Local\\Programs\\Python\\Python311\\Lib\\site-packages\\sklearn\\base.py:465: UserWarning: X does not have valid feature names, but Ridge was fitted with feature names\n",
      "  warnings.warn(\n",
      "C:\\Users\\Celeste\\AppData\\Local\\Programs\\Python\\Python311\\Lib\\site-packages\\sklearn\\base.py:465: UserWarning: X does not have valid feature names, but Ridge was fitted with feature names\n",
      "  warnings.warn(\n",
      "C:\\Users\\Celeste\\AppData\\Local\\Programs\\Python\\Python311\\Lib\\site-packages\\sklearn\\base.py:465: UserWarning: X does not have valid feature names, but Ridge was fitted with feature names\n",
      "  warnings.warn(\n",
      "C:\\Users\\Celeste\\AppData\\Local\\Programs\\Python\\Python311\\Lib\\site-packages\\sklearn\\base.py:465: UserWarning: X does not have valid feature names, but Ridge was fitted with feature names\n",
      "  warnings.warn(\n"
     ]
    }
   ],
   "source": [
    "from datetime import datetime\n",
    "\n",
    "most_recent = datetime.strptime(\"2023-11-02\",\"%Y-%m-%d\").date()\n",
    "while most_recent != (date.today() + timedelta(days=7)):\n",
    "    \n",
    "    # Create a DataFrame with the specified predictors and fill missing values with zeros\n",
    "    new_row = pd.DataFrame(index=[most_recent], columns=predictors).fillna(0)\n",
    "    \n",
    "    # Assuming \"predictors\" is a list of features\n",
    "    prediction = reg.predict(new_row.values.reshape(1, -1))[0]\n",
    "\n",
    "     # Estimate temperature based on the average of the same day in previous years\n",
    "    same_day_temps = core_weather[pd.to_datetime(core_weather.index).dayofyear == pd.to_datetime(most_recent).dayofyear]\n",
    "    max_temp = same_day_temps[\"max_temp\"].mean()\n",
    "    min_temp = same_day_temps[\"min_temp\"].mean()\n",
    "    prcp = same_day_temps[\"precipitation\"].mean()\n",
    "\n",
    "    new_row[[\"precipitation\",\"max_temp\",\"min_temp\"]] = [prcp, max_temp, min_temp]\n",
    "    core_weather = pd.concat([core_weather, new_row])\n",
    "    most_recent += timedelta(days=1)\n"
   ]
  },
  {
   "cell_type": "markdown",
   "id": "361d24e4-4250-473d-9c28-b9ace498e804",
   "metadata": {},
   "source": [
    "\n",
    "\n",
    "## Weather for last and next week"
   ]
  },
  {
   "cell_type": "code",
   "execution_count": 30,
   "id": "cdf46564-80bc-48ab-b2f8-256579eef94d",
   "metadata": {},
   "outputs": [
    {
     "data": {
      "text/html": [
       "<div>\n",
       "<style scoped>\n",
       "    .dataframe tbody tr th:only-of-type {\n",
       "        vertical-align: middle;\n",
       "    }\n",
       "\n",
       "    .dataframe tbody tr th {\n",
       "        vertical-align: top;\n",
       "    }\n",
       "\n",
       "    .dataframe thead th {\n",
       "        text-align: right;\n",
       "    }\n",
       "</style>\n",
       "<table border=\"1\" class=\"dataframe\">\n",
       "  <thead>\n",
       "    <tr style=\"text-align: right;\">\n",
       "      <th></th>\n",
       "      <th>precipitation</th>\n",
       "      <th>max_temp</th>\n",
       "      <th>min_temp</th>\n",
       "    </tr>\n",
       "  </thead>\n",
       "  <tbody>\n",
       "    <tr>\n",
       "      <th>2023-11-03</th>\n",
       "      <td>2.936508</td>\n",
       "      <td>12.119048</td>\n",
       "      <td>6.141270</td>\n",
       "    </tr>\n",
       "    <tr>\n",
       "      <th>2023-11-04</th>\n",
       "      <td>2.528571</td>\n",
       "      <td>11.403175</td>\n",
       "      <td>6.019048</td>\n",
       "    </tr>\n",
       "    <tr>\n",
       "      <th>2023-11-05</th>\n",
       "      <td>1.792063</td>\n",
       "      <td>11.322222</td>\n",
       "      <td>5.309524</td>\n",
       "    </tr>\n",
       "    <tr>\n",
       "      <th>2023-11-06</th>\n",
       "      <td>1.223810</td>\n",
       "      <td>10.531746</td>\n",
       "      <td>4.692063</td>\n",
       "    </tr>\n",
       "    <tr>\n",
       "      <th>2023-11-07</th>\n",
       "      <td>1.901587</td>\n",
       "      <td>10.928571</td>\n",
       "      <td>4.542857</td>\n",
       "    </tr>\n",
       "    <tr>\n",
       "      <th>2023-11-08</th>\n",
       "      <td>2.610938</td>\n",
       "      <td>11.114063</td>\n",
       "      <td>4.931250</td>\n",
       "    </tr>\n",
       "    <tr>\n",
       "      <th>2023-11-09</th>\n",
       "      <td>2.101587</td>\n",
       "      <td>10.920635</td>\n",
       "      <td>4.965079</td>\n",
       "    </tr>\n",
       "    <tr>\n",
       "      <th>2023-11-10</th>\n",
       "      <td>1.693651</td>\n",
       "      <td>10.550794</td>\n",
       "      <td>4.919048</td>\n",
       "    </tr>\n",
       "    <tr>\n",
       "      <th>2023-11-11</th>\n",
       "      <td>2.517460</td>\n",
       "      <td>10.528571</td>\n",
       "      <td>4.679365</td>\n",
       "    </tr>\n",
       "    <tr>\n",
       "      <th>2023-11-12</th>\n",
       "      <td>2.409524</td>\n",
       "      <td>10.092063</td>\n",
       "      <td>4.671429</td>\n",
       "    </tr>\n",
       "    <tr>\n",
       "      <th>2023-11-13</th>\n",
       "      <td>3.068254</td>\n",
       "      <td>9.852381</td>\n",
       "      <td>4.250794</td>\n",
       "    </tr>\n",
       "    <tr>\n",
       "      <th>2023-11-14</th>\n",
       "      <td>2.528571</td>\n",
       "      <td>9.704762</td>\n",
       "      <td>4.309524</td>\n",
       "    </tr>\n",
       "    <tr>\n",
       "      <th>2023-11-15</th>\n",
       "      <td>2.725397</td>\n",
       "      <td>9.347619</td>\n",
       "      <td>4.352381</td>\n",
       "    </tr>\n",
       "    <tr>\n",
       "      <th>2023-11-16</th>\n",
       "      <td>2.653968</td>\n",
       "      <td>8.563492</td>\n",
       "      <td>3.742857</td>\n",
       "    </tr>\n",
       "  </tbody>\n",
       "</table>\n",
       "</div>"
      ],
      "text/plain": [
       "            precipitation   max_temp  min_temp\n",
       "2023-11-03       2.936508  12.119048  6.141270\n",
       "2023-11-04       2.528571  11.403175  6.019048\n",
       "2023-11-05       1.792063  11.322222  5.309524\n",
       "2023-11-06       1.223810  10.531746  4.692063\n",
       "2023-11-07       1.901587  10.928571  4.542857\n",
       "2023-11-08       2.610938  11.114063  4.931250\n",
       "2023-11-09       2.101587  10.920635  4.965079\n",
       "2023-11-10       1.693651  10.550794  4.919048\n",
       "2023-11-11       2.517460  10.528571  4.679365\n",
       "2023-11-12       2.409524  10.092063  4.671429\n",
       "2023-11-13       3.068254   9.852381  4.250794\n",
       "2023-11-14       2.528571   9.704762  4.309524\n",
       "2023-11-15       2.725397   9.347619  4.352381\n",
       "2023-11-16       2.653968   8.563492  3.742857"
      ]
     },
     "execution_count": 30,
     "metadata": {},
     "output_type": "execute_result"
    }
   ],
   "source": [
    "core_weather[[\"precipitation\",\"max_temp\",\"min_temp\"]].loc[(date.today() - timedelta(days=7)):]"
   ]
  },
  {
   "cell_type": "code",
   "execution_count": null,
   "id": "ae1b6b2c-10a0-43fc-a7e3-6666bc146c4d",
   "metadata": {},
   "outputs": [],
   "source": []
  }
 ],
 "metadata": {
  "kernelspec": {
   "display_name": "Python 3 (ipykernel)",
   "language": "python",
   "name": "python3"
  },
  "language_info": {
   "codemirror_mode": {
    "name": "ipython",
    "version": 3
   },
   "file_extension": ".py",
   "mimetype": "text/x-python",
   "name": "python",
   "nbconvert_exporter": "python",
   "pygments_lexer": "ipython3",
   "version": "3.11.5"
  }
 },
 "nbformat": 4,
 "nbformat_minor": 5
}
